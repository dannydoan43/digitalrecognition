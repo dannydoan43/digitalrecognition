{
  "nbformat": 4,
  "nbformat_minor": 0,
  "metadata": {
    "colab": {
      "name": "digitrec.ipynb",
      "provenance": [],
      "collapsed_sections": [],
      "authorship_tag": "ABX9TyNVxkCtPgDKnfs5p0XZh/JV",
      "include_colab_link": true
    },
    "kernelspec": {
      "name": "python3",
      "display_name": "Python 3"
    },
    "language_info": {
      "name": "python"
    }
  },
  "cells": [
    {
      "cell_type": "markdown",
      "metadata": {
        "id": "view-in-github",
        "colab_type": "text"
      },
      "source": [
        "<a href=\"https://colab.research.google.com/github/dannydoan43/digitalrecognition/blob/main/digitrec.ipynb\" target=\"_parent\"><img src=\"https://colab.research.google.com/assets/colab-badge.svg\" alt=\"Open In Colab\"/></a>"
      ]
    },
    {
      "cell_type": "code",
      "metadata": {
        "id": "XlY2AA0YijEh"
      },
      "source": [
        "import numpy as np \n",
        "import pandas as pd \n",
        "\n",
        "\n",
        "import os\n",
        "for dirname, _, filenames in os.walk('/kaggle/input'):\n",
        "    for filename in filenames:\n",
        "        print(os.path.join(dirname, filename))\n"
      ],
      "execution_count": null,
      "outputs": []
    },
    {
      "cell_type": "code",
      "metadata": {
        "colab": {
          "base_uri": "https://localhost:8080/"
        },
        "id": "cy78seudinkN",
        "outputId": "8fefcd70-3b98-4fd7-f2ed-11831d40d336"
      },
      "source": [
        "import keras\n",
        "from keras.utils import np_utils\n",
        "from keras.datasets import mnist\n",
        "from keras.models import Sequential\n",
        "from keras.layers import Dense, Dropout, Flatten\n",
        "from keras.layers import Conv2D, MaxPooling2D\n",
        "from keras import backend as K\n",
        "import matplotlib.pyplot as plt\n",
        "\n",
        "\n",
        "\n",
        "# split data into train and test sets\n",
        "\n",
        "(x_train, y_train), (x_test, y_test) = mnist.load_data()\n",
        "\n",
        "print(x_train.shape, y_train.shape)"
      ],
      "execution_count": null,
      "outputs": [
        {
          "output_type": "stream",
          "text": [
            "Downloading data from https://storage.googleapis.com/tensorflow/tf-keras-datasets/mnist.npz\n",
            "11493376/11490434 [==============================] - 0s 0us/step\n",
            "(60000, 28, 28) (60000,)\n"
          ],
          "name": "stdout"
        }
      ]
    },
    {
      "cell_type": "code",
      "metadata": {
        "colab": {
          "base_uri": "https://localhost:8080/",
          "height": 297
        },
        "id": "NZa_uBnBiqxr",
        "outputId": "f8c3f500-7376-4225-c6b9-44bcf5dfe6f1"
      },
      "source": [
        "image_index = 7777 # 1-60,000\n",
        "print(y_train[image_index])\n",
        "plt.imshow(x_train[image_index], cmap='Greys')"
      ],
      "execution_count": null,
      "outputs": [
        {
          "output_type": "stream",
          "text": [
            "8\n"
          ],
          "name": "stdout"
        },
        {
          "output_type": "execute_result",
          "data": {
            "text/plain": [
              "<matplotlib.image.AxesImage at 0x7f079f502bd0>"
            ]
          },
          "metadata": {
            "tags": []
          },
          "execution_count": 3
        },
        {
          "output_type": "display_data",
          "data": {
            "image/png": "[encoded data removed]",
            "text/plain": [
              "<Figure size 432x288 with 1 Axes>"
            ]
          },
          "metadata": {
            "tags": [],
            "needs_background": "light"
          }
        }
      ]
    },
    {
      "cell_type": "code",
      "metadata": {
        "colab": {
          "base_uri": "https://localhost:8080/"
        },
        "id": "FgEHYnLTiubR",
        "outputId": "c0429b3e-f569-49f6-b0fb-67953d87139f"
      },
      "source": [
        "\n",
        "x_train = x_train.reshape(x_train.shape[0], 28, 28, 1)\n",
        "x_test = x_test.reshape(x_test.shape[0], 28, 28, 1)\n",
        "\n",
        "print(x_train.shape[0], 'train samples')\n",
        "print(x_test.shape[0], 'test samples')"
      ],
      "execution_count": null,
      "outputs": [
        {
          "output_type": "stream",
          "text": [
            "60000 train samples\n",
            "10000 test samples\n"
          ],
          "name": "stdout"
        }
      ]
    },
    {
      "cell_type": "code",
      "metadata": {
        "id": "Tj3Zq7p-ixpH"
      },
      "source": [
        "y_train = np_utils.to_categorical(y_train, num_classes=None)\n",
        "\n",
        "y_test = np_utils.to_categorical(y_test, num_classes=None)"
      ],
      "execution_count": null,
      "outputs": []
    },
    {
      "cell_type": "code",
      "metadata": {
        "colab": {
          "base_uri": "https://localhost:8080/"
        },
        "id": "JH_9PzAqi0be",
        "outputId": "b23e83fe-5c29-4932-aa54-060bd2fbc460"
      },
      "source": [
        "\n",
        "x_train = x_train.astype('float32')\n",
        "x_test = x_test.astype('float32')\n",
        "\n",
        "# Grey scale 0 - 255\n",
        "x_train /= 255\n",
        "x_test /= 255\n",
        "\n",
        "print('x_train shape:', x_train.shape)\n",
        "print(x_train.shape[0], 'train samples')\n",
        "print(x_test.shape[0], 'test samples')"
      ],
      "execution_count": null,
      "outputs": [
        {
          "output_type": "stream",
          "text": [
            "x_train shape: (60000, 28, 28, 1)\n",
            "60000 train samples\n",
            "10000 test samples\n"
          ],
          "name": "stdout"
        }
      ]
    },
    {
      "cell_type": "code",
      "metadata": {
        "id": "nP3t7rnBi2uG"
      },
      "source": [
        "batch_size = 128\n",
        "num_classes = 10\n",
        "epochs = 10\n",
        "\n",
        "model = Sequential()\n",
        "\n",
        "model.add(Conv2D(32, kernel_size=(3, 3),activation='relu',input_shape=(28,28,1)))\n",
        "model.add(Conv2D(64, (3, 3), activation='relu'))\n",
        "model.add(MaxPooling2D(pool_size=(2, 2)))\n",
        "\n",
        "model.add(Dropout(0.25))\n",
        "model.add(Flatten())\n",
        "\n",
        "model.add(Dense(256, activation='relu'))\n",
        "model.add(Dropout(0.5))\n",
        "model.add(Dense(num_classes, activation='softmax'))\n",
        "\n",
        "model.compile(loss=keras.losses.categorical_crossentropy,optimizer=keras.optimizers.Adadelta(),metrics=['accuracy'])"
      ],
      "execution_count": null,
      "outputs": []
    },
    {
      "cell_type": "code",
      "metadata": {
        "colab": {
          "base_uri": "https://localhost:8080/"
        },
        "id": "P0ePB1JIi6Ng",
        "outputId": "c04a3dbf-23d4-4925-89c6-911892171d62"
      },
      "source": [
        "my_model = model.fit(x_train, y_train,batch_size=batch_size,epochs=epochs,verbose=1,validation_data=(x_test, y_test))\n",
        "print(\"The model has successfully trained\")\n",
        "\n",
        "model.save('mnist.h5')\n",
        "print(\"Model saved as mnist.h5\")"
      ],
      "execution_count": null,
      "outputs": [
        {
          "output_type": "stream",
          "text": [
            "Epoch 1/10\n",
            "469/469 [==============================] - 135s 285ms/step - loss: 2.2933 - accuracy: 0.1354 - val_loss: 2.2093 - val_accuracy: 0.3559\n",
            "Epoch 2/10\n",
            "469/469 [==============================] - 136s 291ms/step - loss: 2.1987 - accuracy: 0.2833 - val_loss: 2.0883 - val_accuracy: 0.5489\n",
            "Epoch 3/10\n",
            "469/469 [==============================] - 134s 287ms/step - loss: 2.0807 - accuracy: 0.4244 - val_loss: 1.9192 - val_accuracy: 0.6650\n",
            "Epoch 4/10\n",
            "469/469 [==============================] - 135s 288ms/step - loss: 1.9144 - accuracy: 0.5370 - val_loss: 1.6929 - val_accuracy: 0.7303\n",
            "Epoch 5/10\n",
            "469/469 [==============================] - 135s 287ms/step - loss: 1.7043 - accuracy: 0.6013 - val_loss: 1.4332 - val_accuracy: 0.7624\n",
            "Epoch 6/10\n",
            "469/469 [==============================] - 135s 288ms/step - loss: 1.4713 - accuracy: 0.6439 - val_loss: 1.1852 - val_accuracy: 0.7874\n",
            "Epoch 7/10\n",
            "469/469 [==============================] - 136s 289ms/step - loss: 1.2714 - accuracy: 0.6713 - val_loss: 0.9858 - val_accuracy: 0.8083\n",
            "Epoch 8/10\n",
            "469/469 [==============================] - 133s 284ms/step - loss: 1.1095 - accuracy: 0.6971 - val_loss: 0.8399 - val_accuracy: 0.8224\n",
            "Epoch 9/10\n",
            "469/469 [==============================] - 134s 286ms/step - loss: 0.9854 - accuracy: 0.7156 - val_loss: 0.7360 - val_accuracy: 0.8363\n",
            "Epoch 10/10\n",
            "469/469 [==============================] - 134s 285ms/step - loss: 0.8901 - accuracy: 0.7335 - val_loss: 0.6601 - val_accuracy: 0.8460\n",
            "The model has successfully trained\n",
            "Model saved as mnist.h5\n"
          ],
          "name": "stdout"
        }
      ]
    },
    {
      "cell_type": "code",
      "metadata": {
        "colab": {
          "base_uri": "https://localhost:8080/"
        },
        "id": "CBQr6QHnjK66",
        "outputId": "938a7a64-1e51-474c-e267-04537803be0e"
      },
      "source": [
        "score = model.evaluate(x_test, y_test, verbose = 1)\n",
        "\n",
        "print(\"Test Loss\" , score[0])\n",
        "print(\"Test Accuracy\" , score[1])"
      ],
      "execution_count": null,
      "outputs": [
        {
          "output_type": "stream",
          "text": [
            "313/313 [==============================] - 7s 21ms/step - loss: 0.6601 - accuracy: 0.8460\n",
            "Test Loss 0.660072922706604\n",
            "Test Accuracy 0.8460000157356262\n"
          ],
          "name": "stdout"
        }
      ]
    },
    {
      "cell_type": "code",
      "metadata": {
        "colab": {
          "base_uri": "https://localhost:8080/",
          "height": 332
        },
        "id": "W7UU3lBEjOB4",
        "outputId": "6d4cf0fe-a8c9-4e7b-c99a-46d3b5198414"
      },
      "source": [
        "image_index = 9\n",
        "plt.imshow(x_test[image_index].reshape(28, 28),cmap='Greys')\n",
        "pred = model.predict(x_test[image_index].reshape(1, 28, 28, 1))\n",
        "prednumber = \"\\nPredicted Number\"\n",
        "actual = pred.argmax()\n",
        "print(\"{} : {}\".format(prednumber,actual))\n",
        "print(\"\\n\")"
      ],
      "execution_count": null,
      "outputs": [
        {
          "output_type": "stream",
          "text": [
            "\n",
            "Predicted Number : 9\n",
            "\n",
            "\n"
          ],
          "name": "stdout"
        },
        {
          "output_type": "display_data",
          "data": {
            "image/png": "[encoded data removed]",
            "text/plain": [
              "<Figure size 432x288 with 1 Axes>"
            ]
          },
          "metadata": {
            "tags": [],
            "needs_background": "light"
          }
        }
      ]
    }
  ]
}